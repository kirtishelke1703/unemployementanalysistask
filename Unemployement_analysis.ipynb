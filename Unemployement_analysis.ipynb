{
  "nbformat": 4,
  "nbformat_minor": 0,
  "metadata": {
    "colab": {
      "provenance": [],
      "authorship_tag": "ABX9TyMNStacpCVJJBPH+UtA1t1D",
      "include_colab_link": true
    },
    "kernelspec": {
      "name": "python3",
      "display_name": "Python 3"
    },
    "language_info": {
      "name": "python"
    }
  },
  "cells": [
    {
      "cell_type": "markdown",
      "metadata": {
        "id": "view-in-github",
        "colab_type": "text"
      },
      "source": [
        "<a href=\"https://colab.research.google.com/github/kirtishelke1703/unemployementanalysistask/blob/main/Unemployement_analysis.ipynb\" target=\"_parent\"><img src=\"https://colab.research.google.com/assets/colab-badge.svg\" alt=\"Open In Colab\"/></a>"
      ]
    },
    {
      "cell_type": "markdown",
      "source": [
        "Importing the necessary Python libraries"
      ],
      "metadata": {
        "id": "G2CUE66PU-kn"
      }
    },
    {
      "cell_type": "code",
      "execution_count": 7,
      "metadata": {
        "id": "XXg0MSz4enF8"
      },
      "outputs": [],
      "source": [
        "import pandas as pd\n",
        "import numpy as np\n",
        "import matplotlib.pyplot as plt\n",
        "import seaborn as sns\n",
        "import plotly.express as px"
      ]
    },
    {
      "cell_type": "markdown",
      "source": [
        "Load The Dataset"
      ],
      "metadata": {
        "id": "rxrmCrF-VGqt"
      }
    },
    {
      "cell_type": "code",
      "source": [
        "data = pd.read_csv(\"/content/Unemployment_in_India[1].csv\")\n",
        "print(data.head())"
      ],
      "metadata": {
        "id": "4TrCdlqdfe5X"
      },
      "execution_count": null,
      "outputs": []
    },
    {
      "cell_type": "markdown",
      "source": [
        "see if this dataset contains missing values or not:"
      ],
      "metadata": {
        "id": "HvKhklgwVchM"
      }
    },
    {
      "cell_type": "code",
      "source": [
        "print(data.isnull().sum())"
      ],
      "metadata": {
        "id": "Va-sux2Bf516"
      },
      "execution_count": null,
      "outputs": []
    },
    {
      "cell_type": "markdown",
      "source": [
        "rename all the columns:"
      ],
      "metadata": {
        "id": "YGTaz-V8Vwl0"
      }
    },
    {
      "cell_type": "code",
      "source": [
        "data.columns= [\"Region\",\"Date\",\"Frequency\", \"Estimated Unemployment Rate\", \"Estimated Employed\", \"Estimated Labour Participation Rate\",\n",
        "               \"Area\"]"
      ],
      "metadata": {
        "id": "5iP3XzrLgBZw"
      },
      "execution_count": 10,
      "outputs": []
    },
    {
      "cell_type": "markdown",
      "source": [
        "unemployment analysis"
      ],
      "metadata": {
        "id": "hnMg505bVy9b"
      }
    },
    {
      "cell_type": "code",
      "source": [
        "plt.style.use('seaborn-whitegrid')\n",
        "plt.figure(figsize=(12, 10))\n",
        "sns.heatmap(data.corr())\n",
        "plt.show()"
      ],
      "metadata": {
        "id": "ntKj-tJqgaai"
      },
      "execution_count": null,
      "outputs": []
    },
    {
      "cell_type": "markdown",
      "source": [
        "data visualisation"
      ],
      "metadata": {
        "id": "9P0GKieAV99S"
      }
    },
    {
      "cell_type": "code",
      "source": [
        "data.columns= [\"Region\",\"Date\",\"Frequency\", \"Estimated Unemployment Rate\", \"Estimated Employed\", \"Estimated Labour Participation Rate\",\n",
        "               \"Area\"]\n",
        "plt.title(\"Indian Unemployment\")\n",
        "sns.histplot(x=\"Estimated Employed\", hue=\"Region\", data=data)\n",
        "plt.show()"
      ],
      "metadata": {
        "id": "0SE5qnBLgh5R"
      },
      "execution_count": null,
      "outputs": []
    },
    {
      "cell_type": "code",
      "source": [
        "plt.figure(figsize=(12, 10))\n",
        "plt.title(\"Indian Unemployment\")\n",
        "sns.histplot(x=\"Estimated Unemployment Rate\", hue=\"Region\", data=data)\n",
        "plt.show()"
      ],
      "metadata": {
        "id": "A8JFb0Vbg0aB"
      },
      "execution_count": null,
      "outputs": []
    }
  ]
}